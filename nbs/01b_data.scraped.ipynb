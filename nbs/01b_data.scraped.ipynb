{
 "cells": [
  {
   "cell_type": "code",
   "execution_count": null,
   "metadata": {},
   "outputs": [],
   "source": [
    "#default_exp data.scraped"
   ]
  },
  {
   "cell_type": "code",
   "execution_count": null,
   "metadata": {},
   "outputs": [],
   "source": [
    "# export\n",
    "from snkrfinder.imports import *\n",
    "from snkrfinder.core import *\n",
    "from snkrfinder.data.zappos import *\n",
    "# is this dangerous... bootstrapping functions from other _data nb\n",
    "#from snkrfinder.data import *\n"
   ]
  },
  {
   "cell_type": "code",
   "execution_count": null,
   "metadata": {},
   "outputs": [],
   "source": [
    "#hide\n",
    "from nbdev.showdoc import *"
   ]
  },
  {
   "cell_type": "markdown",
   "metadata": {},
   "source": [
    "# snkrfinder.data.scraped\n",
    "\n",
    "We used process_scraped_data00.py to process all of our .json dumps... \n",
    "\n",
    "files are in \n",
    "- goat\n",
    "- sns\n",
    "\n",
    "AllPages.pkl - DATABASE \n",
    "\n",
    "each product page has a hshed filename.json and .jpeg stored here:\n",
    "- pages: individual pages\n",
    "- img: images... hashed\n"
   ]
  },
  {
   "cell_type": "code",
   "execution_count": null,
   "metadata": {},
   "outputs": [
    {
     "name": "stdout",
     "output_type": "stream",
     "text": [
      "/home/ergonyc/Projects/Project2.0/snkr-finder\n",
      "/home/ergonyc/Projects/Project2.0/snkr-finder\n"
     ]
    }
   ],
   "source": [
    "# hide\n",
    "print(Path().cwd())\n",
    "os.chdir(L_ROOT)\n",
    "print(Path().cwd())"
   ]
  },
  {
   "cell_type": "code",
   "execution_count": null,
   "metadata": {},
   "outputs": [
    {
     "data": {
      "text/plain": [
       "Path('/home/ergonyc/Projects/DATABASE')"
      ]
     },
     "execution_count": null,
     "metadata": {},
     "output_type": "execute_result"
    }
   ],
   "source": [
    "# hide\n",
    "D_ROOT"
   ]
  },
  {
   "cell_type": "markdown",
   "metadata": {},
   "source": [
    "## Create a simple database of \"sneakers\"\n",
    "\n",
    "- images (need to access) path to fit beta-VAE \n",
    "- descriptions for fitting text autoencoder\n",
    "- skip \"meta\" data (will come back to this later for further analysis."
   ]
  },
  {
   "cell_type": "code",
   "execution_count": null,
   "metadata": {},
   "outputs": [],
   "source": [
    "filename = ZAPPOS_DF_SIMPLIFIED #\"zappos-50k-simplified_sort\"\n",
    "df_zappos = pd.read_pickle(f\"data/{filename}.pkl\")"
   ]
  },
  {
   "cell_type": "code",
   "execution_count": null,
   "metadata": {},
   "outputs": [
    {
     "data": {
      "text/html": [
       "<div>\n",
       "<style scoped>\n",
       "    .dataframe tbody tr th:only-of-type {\n",
       "        vertical-align: middle;\n",
       "    }\n",
       "\n",
       "    .dataframe tbody tr th {\n",
       "        vertical-align: top;\n",
       "    }\n",
       "\n",
       "    .dataframe thead th {\n",
       "        text-align: right;\n",
       "    }\n",
       "</style>\n",
       "<table border=\"1\" class=\"dataframe\">\n",
       "  <thead>\n",
       "    <tr style=\"text-align: right;\">\n",
       "      <th></th>\n",
       "      <th>CID</th>\n",
       "      <th>Category</th>\n",
       "      <th>path</th>\n",
       "      <th>path_and_file</th>\n",
       "      <th>Category1</th>\n",
       "      <th>Category2</th>\n",
       "      <th>Filename</th>\n",
       "      <th>Sneakers</th>\n",
       "      <th>Boots</th>\n",
       "      <th>Shoes</th>\n",
       "      <th>Slippers</th>\n",
       "      <th>Adult</th>\n",
       "      <th>Gender</th>\n",
       "      <th>train</th>\n",
       "      <th>test</th>\n",
       "      <th>validate</th>\n",
       "      <th>t_t_v</th>\n",
       "    </tr>\n",
       "  </thead>\n",
       "  <tbody>\n",
       "    <tr>\n",
       "      <th>0</th>\n",
       "      <td>7965307-5291</td>\n",
       "      <td>Boots</td>\n",
       "      <td>Boots/Ankle/A. Testoni/7965307.5291.jpg</td>\n",
       "      <td>[Boots, Ankle, A. Testoni, 7965307.5291.jpg]</td>\n",
       "      <td>Boots</td>\n",
       "      <td>Ankle</td>\n",
       "      <td>7965307.5291.jpg</td>\n",
       "      <td>False</td>\n",
       "      <td>True</td>\n",
       "      <td>False</td>\n",
       "      <td>False</td>\n",
       "      <td>True</td>\n",
       "      <td>Men</td>\n",
       "      <td>True</td>\n",
       "      <td>False</td>\n",
       "      <td>False</td>\n",
       "      <td>train</td>\n",
       "    </tr>\n",
       "    <tr>\n",
       "      <th>1</th>\n",
       "      <td>7999255-363731</td>\n",
       "      <td>Boots</td>\n",
       "      <td>Boots/Ankle/A. Testoni/7999255.363731.jpg</td>\n",
       "      <td>[Boots, Ankle, A. Testoni, 7999255.363731.jpg]</td>\n",
       "      <td>Boots</td>\n",
       "      <td>Ankle</td>\n",
       "      <td>7999255.363731.jpg</td>\n",
       "      <td>False</td>\n",
       "      <td>True</td>\n",
       "      <td>False</td>\n",
       "      <td>False</td>\n",
       "      <td>True</td>\n",
       "      <td>Men</td>\n",
       "      <td>True</td>\n",
       "      <td>False</td>\n",
       "      <td>False</td>\n",
       "      <td>train</td>\n",
       "    </tr>\n",
       "    <tr>\n",
       "      <th>2</th>\n",
       "      <td>8000978-364150</td>\n",
       "      <td>Boots</td>\n",
       "      <td>Boots/Ankle/A. Testoni/8000978.364150.jpg</td>\n",
       "      <td>[Boots, Ankle, A. Testoni, 8000978.364150.jpg]</td>\n",
       "      <td>Boots</td>\n",
       "      <td>Ankle</td>\n",
       "      <td>8000978.364150.jpg</td>\n",
       "      <td>False</td>\n",
       "      <td>True</td>\n",
       "      <td>False</td>\n",
       "      <td>False</td>\n",
       "      <td>True</td>\n",
       "      <td>Men</td>\n",
       "      <td>False</td>\n",
       "      <td>True</td>\n",
       "      <td>False</td>\n",
       "      <td>test</td>\n",
       "    </tr>\n",
       "    <tr>\n",
       "      <th>3</th>\n",
       "      <td>8113228-1897</td>\n",
       "      <td>Boots</td>\n",
       "      <td>Boots/Ankle/AIGLE/8113228.1897.jpg</td>\n",
       "      <td>[Boots, Ankle, AIGLE, 8113228.1897.jpg]</td>\n",
       "      <td>Boots</td>\n",
       "      <td>Ankle</td>\n",
       "      <td>8113228.1897.jpg</td>\n",
       "      <td>False</td>\n",
       "      <td>True</td>\n",
       "      <td>False</td>\n",
       "      <td>False</td>\n",
       "      <td>True</td>\n",
       "      <td>Women</td>\n",
       "      <td>True</td>\n",
       "      <td>False</td>\n",
       "      <td>False</td>\n",
       "      <td>train</td>\n",
       "    </tr>\n",
       "    <tr>\n",
       "      <th>4</th>\n",
       "      <td>8113228-1912</td>\n",
       "      <td>Boots</td>\n",
       "      <td>Boots/Ankle/AIGLE/8113228.1912.jpg</td>\n",
       "      <td>[Boots, Ankle, AIGLE, 8113228.1912.jpg]</td>\n",
       "      <td>Boots</td>\n",
       "      <td>Ankle</td>\n",
       "      <td>8113228.1912.jpg</td>\n",
       "      <td>False</td>\n",
       "      <td>True</td>\n",
       "      <td>False</td>\n",
       "      <td>False</td>\n",
       "      <td>True</td>\n",
       "      <td>Women</td>\n",
       "      <td>True</td>\n",
       "      <td>False</td>\n",
       "      <td>False</td>\n",
       "      <td>train</td>\n",
       "    </tr>\n",
       "  </tbody>\n",
       "</table>\n",
       "</div>"
      ],
      "text/plain": [
       "              CID Category                                       path  \\\n",
       "0    7965307-5291    Boots    Boots/Ankle/A. Testoni/7965307.5291.jpg   \n",
       "1  7999255-363731    Boots  Boots/Ankle/A. Testoni/7999255.363731.jpg   \n",
       "2  8000978-364150    Boots  Boots/Ankle/A. Testoni/8000978.364150.jpg   \n",
       "3    8113228-1897    Boots         Boots/Ankle/AIGLE/8113228.1897.jpg   \n",
       "4    8113228-1912    Boots         Boots/Ankle/AIGLE/8113228.1912.jpg   \n",
       "\n",
       "                                    path_and_file Category1 Category2  \\\n",
       "0    [Boots, Ankle, A. Testoni, 7965307.5291.jpg]     Boots     Ankle   \n",
       "1  [Boots, Ankle, A. Testoni, 7999255.363731.jpg]     Boots     Ankle   \n",
       "2  [Boots, Ankle, A. Testoni, 8000978.364150.jpg]     Boots     Ankle   \n",
       "3         [Boots, Ankle, AIGLE, 8113228.1897.jpg]     Boots     Ankle   \n",
       "4         [Boots, Ankle, AIGLE, 8113228.1912.jpg]     Boots     Ankle   \n",
       "\n",
       "             Filename  Sneakers  Boots  Shoes  Slippers  Adult Gender  train  \\\n",
       "0    7965307.5291.jpg     False   True  False     False   True    Men   True   \n",
       "1  7999255.363731.jpg     False   True  False     False   True    Men   True   \n",
       "2  8000978.364150.jpg     False   True  False     False   True    Men  False   \n",
       "3    8113228.1897.jpg     False   True  False     False   True  Women   True   \n",
       "4    8113228.1912.jpg     False   True  False     False   True  Women   True   \n",
       "\n",
       "    test  validate  t_t_v  \n",
       "0  False     False  train  \n",
       "1  False     False  train  \n",
       "2   True     False   test  \n",
       "3  False     False  train  \n",
       "4  False     False  train  "
      ]
     },
     "execution_count": null,
     "metadata": {},
     "output_type": "execute_result"
    }
   ],
   "source": [
    "df_zappos.head()"
   ]
  },
  {
   "cell_type": "code",
   "execution_count": null,
   "metadata": {
    "tags": []
   },
   "outputs": [
    {
     "data": {
      "text/plain": [
       "Path('/home/ergonyc/Projects/DATABASE/SnkrScrpr/data/full_data')"
      ]
     },
     "execution_count": null,
     "metadata": {},
     "output_type": "execute_result"
    }
   ],
   "source": [
    "SCRAPED_META_DIR/SCRAPED_DF\n"
   ]
  },
  {
   "cell_type": "code",
   "execution_count": null,
   "metadata": {
    "tags": []
   },
   "outputs": [
    {
     "data": {
      "text/html": [
       "<div>\n",
       "<style scoped>\n",
       "    .dataframe tbody tr th:only-of-type {\n",
       "        vertical-align: middle;\n",
       "    }\n",
       "\n",
       "    .dataframe tbody tr th {\n",
       "        vertical-align: top;\n",
       "    }\n",
       "\n",
       "    .dataframe thead th {\n",
       "        text-align: right;\n",
       "    }\n",
       "</style>\n",
       "<table border=\"1\" class=\"dataframe\">\n",
       "  <thead>\n",
       "    <tr style=\"text-align: right;\">\n",
       "      <th></th>\n",
       "      <th>url</th>\n",
       "      <th>hero</th>\n",
       "      <th>images</th>\n",
       "      <th>description</th>\n",
       "      <th>price_list</th>\n",
       "      <th>attributes</th>\n",
       "      <th>attributes_links</th>\n",
       "      <th>see_also_links</th>\n",
       "      <th>hero_fullpath</th>\n",
       "    </tr>\n",
       "  </thead>\n",
       "  <tbody>\n",
       "    <tr>\n",
       "      <th>0</th>\n",
       "      <td>https://www.goat.com/sneakers/air-jordan-11-retro-bred-2012-378037-010</td>\n",
       "      <td>99543f4630.jpg</td>\n",
       "      <td>[https://image.goat.com/crop/750/attachments/product_template_additional_pictures/images/008/487/202/original/13562_01.jpg.jpeg?1513115063, https://image.goat.com/crop/750/attachments/product_template_additional_pictures/images/008/487/200/original/13562_02.jpg.jpeg?1513115063, https://image.goat.com/crop/750/attachments/product_template_additional_pictures/images/008/487/201/original/13562_03.jpg.jpeg?1513115063, https://image.goat.com/crop/750/attachments/product_template_additional_pictures/images/008/487/192/original/13562_04.jpg.jpeg?1513115063, https://image.goat.com/crop/750/attachm...</td>\n",
       "      <td>Released in December, the Air Jordan 11 Retro ‘Bred’ 2012 brings back the famous black/red colorway to the Jordan 11 silhouette. The design features a black mesh upper with black patent leather overlays, red Jumpman accents, a white midsole, and a translucent red outsole. Originally released in 1995, the sneaker was retro’d in 2001 and in 2008 alongside an Air Jordan 12 as part of the ‘Collezione Pack’.</td>\n",
       "      <td>[6M\\n$395, 6.5M\\n$495, 7M\\n$560\\n$605, 7.5M\\n$1,200, 8M\\n$425\\n$430, 8M\\n$340\\nNO BOX, 8.5M\\n$485\\n$535, 9M\\n$415\\nLOWEST PRICE, 9.5M\\n$425\\n$495, 10M\\n$320\\n$480, 10.5M\\n$410\\n$550, 11M\\n$390\\n$455, 11M\\n$355\\nNO BOX, 11.5M\\n$405\\n$485, 11.5M\\n$400\\nNO BOX, 12M\\n$405\\n$430, 12.5M\\n$500\\n$795, 13M\\n$400\\nNO LID, 13M\\n$425\\n$550, 13.5M\\n$2,000, 14M\\n$375\\nNO BOX, 14M\\n$465\\n$660, 15M\\n$740]</td>\n",
       "      <td>[RELEASE DATE\\n2012-12-21, SKU\\n378037 010, BRAND\\nAir Jordan, MAIN COLOR\\nBlack, COLORWAY\\nBlack/Varsity Red-White, DESIGNER\\nTinker Hatfield, SILHOUETTE\\nAir Jordan 11, TECHNOLOGY\\nAir, NICKNAME\\nBred, CATEGORY\\nLifestyle]</td>\n",
       "      <td>[https://www.goat.com/sneakers/brand/air%20jordan, https://www.goat.com/sneakers/color/Black, https://www.goat.com/sneakers/designer/Tinker%20Hatfield, https://www.goat.com/sneakers/silhouette/air%20jordan%2011, https://www.goat.com/sneakers/technology/Air, https://www.goat.com/sneakers/category/Lifestyle]</td>\n",
       "      <td>[]</td>\n",
       "      <td>/Users/ergonyc/Projects/DATABASE/SnkrScrpr/data/goat/img/99543f4630.jpg</td>\n",
       "    </tr>\n",
       "    <tr>\n",
       "      <th>1</th>\n",
       "      <td>https://www.goat.com/sneakers/yeezy-boost-700-carbon-blue-yzy-700-what-the</td>\n",
       "      <td>3fbd48e729.jpg</td>\n",
       "      <td>[https://image.goat.com/crop/750/attachments/product_template_additional_pictures/images/029/881/027/original/567939_01.jpg.jpeg?1576267306, https://image.goat.com/crop/750/attachments/product_template_additional_pictures/images/029/881/032/original/567939_02.jpg.jpeg?1576267306, https://image.goat.com/crop/750/attachments/product_template_additional_pictures/images/029/881/026/original/567939_03.jpg.jpeg?1576267305, https://image.goat.com/crop/750/attachments/product_template_additional_pictures/images/029/881/028/original/567939_04.jpg.jpeg?1576267305, https://image.goat.com/crop/750/att...</td>\n",
       "      <td>The adidas Yeezy Boost 700 'Carbon Blue' is a study of tonality inspired by previous 700 models. Debuted in December 2019, the sneaker is presented with a muted blue scheme across the upper's suede and nubuck panels with the tongue and laces in a bright tint. Grey tones for the mesh collar, perforated heel panel and leather eyestays anchor the palette. A sculpted midsole housing full-length Boost, with defined pops of color and dual-tone rubber outsole finish it off.</td>\n",
       "      <td>[4M\\n$395\\nLOWEST PRICE, 4.5M\\n$395\\nLOWEST PRICE, 5M\\n$440\\n$465, 5.5M\\n$440, 6M\\n$550\\nLOWEST PRICE, 6.5M\\n$520\\nLOWEST PRICE, 7M\\n$600\\n$2,000, 7.5M\\n$495\\n$515, 8M\\n$615\\n$2,000, 9M\\n$435\\n$2,000, 9.5M\\n$400\\n$590, 10M\\n$385\\n$440, 10.5M\\n$435\\n$705, 11M\\n$450\\nLOWEST PRICE, 11.5M\\n$655, 12M\\n$470\\n$650, 12.5M\\n$540\\n$555, 13M\\n$410\\n$475, 14M\\n$1,100\\nLOWEST PRICE, 16M\\n$545\\n$645, 17M\\n$400]</td>\n",
       "      <td>[RELEASE DATE\\n2019-12-18, SKU\\nFW2498, BRAND\\nAdidas, MAIN COLOR\\nBlue, DESIGNER\\nKanye West, SILHOUETTE\\nYeezy Boost 700, TECHNOLOGY\\nBoost, NICKNAME\\nCarbon Blue, CATEGORY\\nLifestyle]</td>\n",
       "      <td>[https://www.goat.com/sneakers/brand/adidas, https://www.goat.com/sneakers/color/Blue, https://www.goat.com/sneakers/designer/Kanye%20West, https://www.goat.com/sneakers/silhouette/yeezy%20boost%20700, https://www.goat.com/sneakers/technology/Boost, https://www.goat.com/sneakers/category/Lifestyle]</td>\n",
       "      <td>[]</td>\n",
       "      <td>/Users/ergonyc/Projects/DATABASE/SnkrScrpr/data/goat/img/3fbd48e729.jpg</td>\n",
       "    </tr>\n",
       "    <tr>\n",
       "      <th>2</th>\n",
       "      <td>https://www.goat.com/sneakers/sacai-x-ldv-waffle-pink-green-bv0073-301</td>\n",
       "      <td>6721456f62.jpg</td>\n",
       "      <td>[https://image.goat.com/crop/750/attachments/product_template_additional_pictures/images/023/312/964/original/512003_01.jpg.jpeg?1562613472, https://image.goat.com/crop/750/attachments/product_template_additional_pictures/images/023/312/948/original/512003_02.jpg.jpeg?1562613460, https://image.goat.com/crop/750/attachments/product_template_additional_pictures/images/023/312/955/original/512003_03.jpg.jpeg?1562613460, https://image.goat.com/crop/750/attachments/product_template_additional_pictures/images/023/312/950/original/512003_04.jpg.jpeg?1562613456, https://image.goat.com/crop/750/att...</td>\n",
       "      <td>The Sacai x LDWaffle fuses the Japanese label's experimentalism with Nike's heritage ingenuity. Unveiled in September 2019, this 'Pine Green' edition updates the hybrid model in a vibrant color story. Its mesh upper sees layered suede eyestays, double reinforcements and dual, two-tone Swooshes. The aesthetic is furthered by twin tongues, optional double laces and stacked heel logos. Its double stacked, sculpted midsole follows the same formula atop a rubber waffle tread.</td>\n",
       "      <td>[3.5M\\n$550\\n$650, 4M\\n$455\\n$465, 4.5M\\n$455\\n$495, 5M\\n$545\\n$590, 5.5M\\n$560\\n$595, 6M\\n$500\\n$640, 6.5M\\n$615\\n$625, 7M\\n$665\\n$1,000, 7.5M\\n$495\\n$555, 8M\\n$525\\n$600, 8.5M\\n$480\\n$520, 9M\\n$475\\n$490, 9.5M\\n$450\\n$465, 10M\\n$435\\n$525, 10.5M\\n$415\\n$620, 11M\\n$445\\n$460, 11.5M\\n$450\\n$960, 12M\\n$425\\n$575, 13M\\n$525\\n$1,285, 14M\\n$400\\n$550, 15M\\n$390\\n$460]</td>\n",
       "      <td>[RELEASE DATE\\n2019-09-12, SKU\\nBV0073 301, BRAND\\nNike, MAIN COLOR\\nPink, COLORWAY\\nPine Green/Clay Orange-Del Sol-Sail, SILHOUETTE\\nLDWaffle, CATEGORY\\nLifestyle]</td>\n",
       "      <td>[https://www.goat.com/sneakers/brand/nike, https://www.goat.com/sneakers/color/Pink, https://www.goat.com/sneakers/silhouette/ldwaffle, https://www.goat.com/sneakers/category/Lifestyle]</td>\n",
       "      <td>[]</td>\n",
       "      <td>/Users/ergonyc/Projects/DATABASE/SnkrScrpr/data/goat/img/6721456f62.jpg</td>\n",
       "    </tr>\n",
       "    <tr>\n",
       "      <th>3</th>\n",
       "      <td>https://www.goat.com/sneakers/colin-kaepernick-x-air-force-1-low-07-qs-cq0493-001</td>\n",
       "      <td>27fbbaad00.jpg</td>\n",
       "      <td>[https://image.goat.com/crop/750/attachments/product_template_additional_pictures/images/030/366/998/original/575790_01.jpg.jpeg?1577131234, https://image.goat.com/crop/750/attachments/product_template_additional_pictures/images/030/366/994/original/575790_02.jpg.jpeg?1577131234, https://image.goat.com/crop/750/attachments/product_template_additional_pictures/images/030/366/992/original/575790_03.jpg.jpeg?1577131234, https://image.goat.com/crop/750/attachments/product_template_additional_pictures/images/030/366/990/original/575790_04.jpg.jpeg?1577131233, https://image.goat.com/crop/750/att...</td>\n",
       "      <td>Made in collaboration with the athlete turned social activist, the Colin Kaepernick x Air Force 1 Low '07 QS 'True to 7' features a gradient reflective Swoosh on a black leather upper. Personal touches include Kaepernick’s logo on the tongue, his likeness embroidered on the heel tab, and a number 7 hang tag. The low-top rides on a contrasting white foam midsole, reinforced by a translucent rubber outsole underfoot.</td>\n",
       "      <td>[4M\\n$125\\n$135, 4.5M\\n$185, 5M\\n$150\\n$200, 5.5M\\n$250\\nLOWEST PRICE, 6M\\n$130\\n$135, 6.5M\\n$140\\n$170, 7M\\n$130\\nLOWEST PRICE, 7.5M\\n$135\\n$150, 8M\\n$140\\n$145, 8.5M\\n$135\\nLOWEST PRICE, 9M\\n$140\\n$145, 9.5M\\n$150\\nLOWEST PRICE, 9.5M\\n$140\\nNO LID, 10M\\n$145\\n$155, 10.5M\\n$160\\n$175, 11M\\n$160\\n$175, 11.5M\\n$190\\n$195, 12M\\n$195\\nLOWEST PRICE, 13M\\n$275\\nLOWEST PRICE, 14M\\n$220\\n$250, 15M\\n$165\\nLOWEST PRICE, 16M\\n$300]</td>\n",
       "      <td>[RELEASE DATE\\n2019-12-23, SKU\\nCQ0493 001, BRAND\\nNike, UPPER MATERIAL\\nLeather, MAIN COLOR\\nBlack, COLORWAY\\nBlack/Black/White, DESIGNER\\nBruce Kilgore, SILHOUETTE\\nAir Force 1, TECHNOLOGY\\nAir, NICKNAME\\nTrue To 7, CATEGORY\\nLifestyle]</td>\n",
       "      <td>[https://www.goat.com/sneakers/brand/nike, https://www.goat.com/sneakers/upper_material/Leather, https://www.goat.com/sneakers/color/Black, https://www.goat.com/sneakers/designer/Bruce%20Kilgore, https://www.goat.com/sneakers/silhouette/air%20force%201, https://www.goat.com/sneakers/technology/Air, https://www.goat.com/sneakers/category/Lifestyle]</td>\n",
       "      <td>[]</td>\n",
       "      <td>/Users/ergonyc/Projects/DATABASE/SnkrScrpr/data/goat/img/27fbbaad00.jpg</td>\n",
       "    </tr>\n",
       "    <tr>\n",
       "      <th>4</th>\n",
       "      <td>https://www.goat.com/sneakers/travis-scott-x-air-jordan-6-retro-medium-olive-cn1084-200</td>\n",
       "      <td>df16a19226.jpg</td>\n",
       "      <td>[https://image.goat.com/crop/750/attachments/product_template_additional_pictures/images/026/947/117/original/527961_01.jpg.jpeg?1570647686, https://image.goat.com/crop/750/attachments/product_template_additional_pictures/images/026/947/116/original/527961_02.jpg.jpeg?1570647685, https://image.goat.com/crop/750/attachments/product_template_additional_pictures/images/026/947/113/original/527961_03.jpg.jpeg?1570647682, https://image.goat.com/crop/750/attachments/product_template_additional_pictures/images/026/947/114/original/527961_04.jpg.jpeg?1570647681, https://image.goat.com/crop/750/att...</td>\n",
       "      <td>The Travis Scott x Air Jordan 6 Retro 'Olive' represents a collaboration between the Houston based rapper and Jordan Brand. This take on the AJ 6, which Scott debuted while performing during halftime of Super Bowl 53, released in October 2019. It features a Medium Olive, black, Sail and University Red colorway along with several unique elements: a small pocket with a snap on the collar, a nubuck and suede upper, Scott's 'Cactus Jack' logo on the heel and a glow-in-the-dark translucent outsole.</td>\n",
       "      <td>[6.5M\\n$685, 7M\\n$750\\n$815, 7.5M\\n$815\\n$1,075, 8M\\n$620\\n$685, 8.5M\\n$640\\n$820, 9M\\n$640\\nLOWEST PRICE, 9.5M\\n$600\\n$700, 10M\\n$575\\n$635, 10.5M\\n$550\\n$615, 11M\\n$535\\n$580, 11.5M\\n$560\\n$625, 12M\\n$550\\n$640, 12.5M\\n$635\\n$860, 13M\\n$510\\n$600, 14M\\n$515\\n$570, 15M\\n$795\\nLOWEST PRICE, 16M\\n$575\\nLOWEST PRICE]</td>\n",
       "      <td>[RELEASE DATE\\n2019-10-11, SKU\\nCN1084 200, BRAND\\nAir Jordan, UPPER MATERIAL\\nNubuck, MAIN COLOR\\nGreen, COLORWAY\\nMedium Olive/Black-Sail-University Red, DESIGNER\\nTinker Hatfield, SILHOUETTE\\nAir Jordan 6, TECHNOLOGY\\nAir, NICKNAME\\nOlive, CATEGORY\\nLifestyle]</td>\n",
       "      <td>[https://www.goat.com/sneakers/brand/air%20jordan, https://www.goat.com/sneakers/upper_material/Nubuck, https://www.goat.com/sneakers/color/Green, https://www.goat.com/sneakers/designer/Tinker%20Hatfield, https://www.goat.com/sneakers/silhouette/air%20jordan%206, https://www.goat.com/sneakers/technology/Air, https://www.goat.com/sneakers/category/Lifestyle]</td>\n",
       "      <td>[]</td>\n",
       "      <td>/Users/ergonyc/Projects/DATABASE/SnkrScrpr/data/goat/img/df16a19226.jpg</td>\n",
       "    </tr>\n",
       "  </tbody>\n",
       "</table>\n",
       "</div>"
      ],
      "text/plain": [
       "                                                                                       url  \\\n",
       "0                   https://www.goat.com/sneakers/air-jordan-11-retro-bred-2012-378037-010   \n",
       "1               https://www.goat.com/sneakers/yeezy-boost-700-carbon-blue-yzy-700-what-the   \n",
       "2                   https://www.goat.com/sneakers/sacai-x-ldv-waffle-pink-green-bv0073-301   \n",
       "3        https://www.goat.com/sneakers/colin-kaepernick-x-air-force-1-low-07-qs-cq0493-001   \n",
       "4  https://www.goat.com/sneakers/travis-scott-x-air-jordan-6-retro-medium-olive-cn1084-200   \n",
       "\n",
       "             hero  \\\n",
       "0  99543f4630.jpg   \n",
       "1  3fbd48e729.jpg   \n",
       "2  6721456f62.jpg   \n",
       "3  27fbbaad00.jpg   \n",
       "4  df16a19226.jpg   \n",
       "\n",
       "                                                                                                                                                                                                                                                                                                                                                                                                                                                                                                                                                                                                                    images  \\\n",
       "0  [https://image.goat.com/crop/750/attachments/product_template_additional_pictures/images/008/487/202/original/13562_01.jpg.jpeg?1513115063, https://image.goat.com/crop/750/attachments/product_template_additional_pictures/images/008/487/200/original/13562_02.jpg.jpeg?1513115063, https://image.goat.com/crop/750/attachments/product_template_additional_pictures/images/008/487/201/original/13562_03.jpg.jpeg?1513115063, https://image.goat.com/crop/750/attachments/product_template_additional_pictures/images/008/487/192/original/13562_04.jpg.jpeg?1513115063, https://image.goat.com/crop/750/attachm...   \n",
       "1  [https://image.goat.com/crop/750/attachments/product_template_additional_pictures/images/029/881/027/original/567939_01.jpg.jpeg?1576267306, https://image.goat.com/crop/750/attachments/product_template_additional_pictures/images/029/881/032/original/567939_02.jpg.jpeg?1576267306, https://image.goat.com/crop/750/attachments/product_template_additional_pictures/images/029/881/026/original/567939_03.jpg.jpeg?1576267305, https://image.goat.com/crop/750/attachments/product_template_additional_pictures/images/029/881/028/original/567939_04.jpg.jpeg?1576267305, https://image.goat.com/crop/750/att...   \n",
       "2  [https://image.goat.com/crop/750/attachments/product_template_additional_pictures/images/023/312/964/original/512003_01.jpg.jpeg?1562613472, https://image.goat.com/crop/750/attachments/product_template_additional_pictures/images/023/312/948/original/512003_02.jpg.jpeg?1562613460, https://image.goat.com/crop/750/attachments/product_template_additional_pictures/images/023/312/955/original/512003_03.jpg.jpeg?1562613460, https://image.goat.com/crop/750/attachments/product_template_additional_pictures/images/023/312/950/original/512003_04.jpg.jpeg?1562613456, https://image.goat.com/crop/750/att...   \n",
       "3  [https://image.goat.com/crop/750/attachments/product_template_additional_pictures/images/030/366/998/original/575790_01.jpg.jpeg?1577131234, https://image.goat.com/crop/750/attachments/product_template_additional_pictures/images/030/366/994/original/575790_02.jpg.jpeg?1577131234, https://image.goat.com/crop/750/attachments/product_template_additional_pictures/images/030/366/992/original/575790_03.jpg.jpeg?1577131234, https://image.goat.com/crop/750/attachments/product_template_additional_pictures/images/030/366/990/original/575790_04.jpg.jpeg?1577131233, https://image.goat.com/crop/750/att...   \n",
       "4  [https://image.goat.com/crop/750/attachments/product_template_additional_pictures/images/026/947/117/original/527961_01.jpg.jpeg?1570647686, https://image.goat.com/crop/750/attachments/product_template_additional_pictures/images/026/947/116/original/527961_02.jpg.jpeg?1570647685, https://image.goat.com/crop/750/attachments/product_template_additional_pictures/images/026/947/113/original/527961_03.jpg.jpeg?1570647682, https://image.goat.com/crop/750/attachments/product_template_additional_pictures/images/026/947/114/original/527961_04.jpg.jpeg?1570647681, https://image.goat.com/crop/750/att...   \n",
       "\n",
       "                                                                                                                                                                                                                                                                                                                                                                                                                                                                                                          description  \\\n",
       "0                                                                                              Released in December, the Air Jordan 11 Retro ‘Bred’ 2012 brings back the famous black/red colorway to the Jordan 11 silhouette. The design features a black mesh upper with black patent leather overlays, red Jumpman accents, a white midsole, and a translucent red outsole. Originally released in 1995, the sneaker was retro’d in 2001 and in 2008 alongside an Air Jordan 12 as part of the ‘Collezione Pack’.   \n",
       "1                             The adidas Yeezy Boost 700 'Carbon Blue' is a study of tonality inspired by previous 700 models. Debuted in December 2019, the sneaker is presented with a muted blue scheme across the upper's suede and nubuck panels with the tongue and laces in a bright tint. Grey tones for the mesh collar, perforated heel panel and leather eyestays anchor the palette. A sculpted midsole housing full-length Boost, with defined pops of color and dual-tone rubber outsole finish it off.   \n",
       "2                         The Sacai x LDWaffle fuses the Japanese label's experimentalism with Nike's heritage ingenuity. Unveiled in September 2019, this 'Pine Green' edition updates the hybrid model in a vibrant color story. Its mesh upper sees layered suede eyestays, double reinforcements and dual, two-tone Swooshes. The aesthetic is furthered by twin tongues, optional double laces and stacked heel logos. Its double stacked, sculpted midsole follows the same formula atop a rubber waffle tread.   \n",
       "3                                                                                  Made in collaboration with the athlete turned social activist, the Colin Kaepernick x Air Force 1 Low '07 QS 'True to 7' features a gradient reflective Swoosh on a black leather upper. Personal touches include Kaepernick’s logo on the tongue, his likeness embroidered on the heel tab, and a number 7 hang tag. The low-top rides on a contrasting white foam midsole, reinforced by a translucent rubber outsole underfoot.   \n",
       "4  The Travis Scott x Air Jordan 6 Retro 'Olive' represents a collaboration between the Houston based rapper and Jordan Brand. This take on the AJ 6, which Scott debuted while performing during halftime of Super Bowl 53, released in October 2019. It features a Medium Olive, black, Sail and University Red colorway along with several unique elements: a small pocket with a snap on the collar, a nubuck and suede upper, Scott's 'Cactus Jack' logo on the heel and a glow-in-the-dark translucent outsole.   \n",
       "\n",
       "                                                                                                                                                                                                                                                                                                                                                                                                                                  price_list  \\\n",
       "0                                   [6M\\n$395, 6.5M\\n$495, 7M\\n$560\\n$605, 7.5M\\n$1,200, 8M\\n$425\\n$430, 8M\\n$340\\nNO BOX, 8.5M\\n$485\\n$535, 9M\\n$415\\nLOWEST PRICE, 9.5M\\n$425\\n$495, 10M\\n$320\\n$480, 10.5M\\n$410\\n$550, 11M\\n$390\\n$455, 11M\\n$355\\nNO BOX, 11.5M\\n$405\\n$485, 11.5M\\n$400\\nNO BOX, 12M\\n$405\\n$430, 12.5M\\n$500\\n$795, 13M\\n$400\\nNO LID, 13M\\n$425\\n$550, 13.5M\\n$2,000, 14M\\n$375\\nNO BOX, 14M\\n$465\\n$660, 15M\\n$740]   \n",
       "1                           [4M\\n$395\\nLOWEST PRICE, 4.5M\\n$395\\nLOWEST PRICE, 5M\\n$440\\n$465, 5.5M\\n$440, 6M\\n$550\\nLOWEST PRICE, 6.5M\\n$520\\nLOWEST PRICE, 7M\\n$600\\n$2,000, 7.5M\\n$495\\n$515, 8M\\n$615\\n$2,000, 9M\\n$435\\n$2,000, 9.5M\\n$400\\n$590, 10M\\n$385\\n$440, 10.5M\\n$435\\n$705, 11M\\n$450\\nLOWEST PRICE, 11.5M\\n$655, 12M\\n$470\\n$650, 12.5M\\n$540\\n$555, 13M\\n$410\\n$475, 14M\\n$1,100\\nLOWEST PRICE, 16M\\n$545\\n$645, 17M\\n$400]   \n",
       "2                                                             [3.5M\\n$550\\n$650, 4M\\n$455\\n$465, 4.5M\\n$455\\n$495, 5M\\n$545\\n$590, 5.5M\\n$560\\n$595, 6M\\n$500\\n$640, 6.5M\\n$615\\n$625, 7M\\n$665\\n$1,000, 7.5M\\n$495\\n$555, 8M\\n$525\\n$600, 8.5M\\n$480\\n$520, 9M\\n$475\\n$490, 9.5M\\n$450\\n$465, 10M\\n$435\\n$525, 10.5M\\n$415\\n$620, 11M\\n$445\\n$460, 11.5M\\n$450\\n$960, 12M\\n$425\\n$575, 13M\\n$525\\n$1,285, 14M\\n$400\\n$550, 15M\\n$390\\n$460]   \n",
       "3  [4M\\n$125\\n$135, 4.5M\\n$185, 5M\\n$150\\n$200, 5.5M\\n$250\\nLOWEST PRICE, 6M\\n$130\\n$135, 6.5M\\n$140\\n$170, 7M\\n$130\\nLOWEST PRICE, 7.5M\\n$135\\n$150, 8M\\n$140\\n$145, 8.5M\\n$135\\nLOWEST PRICE, 9M\\n$140\\n$145, 9.5M\\n$150\\nLOWEST PRICE, 9.5M\\n$140\\nNO LID, 10M\\n$145\\n$155, 10.5M\\n$160\\n$175, 11M\\n$160\\n$175, 11.5M\\n$190\\n$195, 12M\\n$195\\nLOWEST PRICE, 13M\\n$275\\nLOWEST PRICE, 14M\\n$220\\n$250, 15M\\n$165\\nLOWEST PRICE, 16M\\n$300]   \n",
       "4                                                                                                               [6.5M\\n$685, 7M\\n$750\\n$815, 7.5M\\n$815\\n$1,075, 8M\\n$620\\n$685, 8.5M\\n$640\\n$820, 9M\\n$640\\nLOWEST PRICE, 9.5M\\n$600\\n$700, 10M\\n$575\\n$635, 10.5M\\n$550\\n$615, 11M\\n$535\\n$580, 11.5M\\n$560\\n$625, 12M\\n$550\\n$640, 12.5M\\n$635\\n$860, 13M\\n$510\\n$600, 14M\\n$515\\n$570, 15M\\n$795\\nLOWEST PRICE, 16M\\n$575\\nLOWEST PRICE]   \n",
       "\n",
       "                                                                                                                                                                                                                                                                attributes  \\\n",
       "0                                         [RELEASE DATE\\n2012-12-21, SKU\\n378037 010, BRAND\\nAir Jordan, MAIN COLOR\\nBlack, COLORWAY\\nBlack/Varsity Red-White, DESIGNER\\nTinker Hatfield, SILHOUETTE\\nAir Jordan 11, TECHNOLOGY\\nAir, NICKNAME\\nBred, CATEGORY\\nLifestyle]   \n",
       "1                                                                               [RELEASE DATE\\n2019-12-18, SKU\\nFW2498, BRAND\\nAdidas, MAIN COLOR\\nBlue, DESIGNER\\nKanye West, SILHOUETTE\\nYeezy Boost 700, TECHNOLOGY\\nBoost, NICKNAME\\nCarbon Blue, CATEGORY\\nLifestyle]   \n",
       "2                                                                                                     [RELEASE DATE\\n2019-09-12, SKU\\nBV0073 301, BRAND\\nNike, MAIN COLOR\\nPink, COLORWAY\\nPine Green/Clay Orange-Del Sol-Sail, SILHOUETTE\\nLDWaffle, CATEGORY\\nLifestyle]   \n",
       "3                           [RELEASE DATE\\n2019-12-23, SKU\\nCQ0493 001, BRAND\\nNike, UPPER MATERIAL\\nLeather, MAIN COLOR\\nBlack, COLORWAY\\nBlack/Black/White, DESIGNER\\nBruce Kilgore, SILHOUETTE\\nAir Force 1, TECHNOLOGY\\nAir, NICKNAME\\nTrue To 7, CATEGORY\\nLifestyle]   \n",
       "4  [RELEASE DATE\\n2019-10-11, SKU\\nCN1084 200, BRAND\\nAir Jordan, UPPER MATERIAL\\nNubuck, MAIN COLOR\\nGreen, COLORWAY\\nMedium Olive/Black-Sail-University Red, DESIGNER\\nTinker Hatfield, SILHOUETTE\\nAir Jordan 6, TECHNOLOGY\\nAir, NICKNAME\\nOlive, CATEGORY\\nLifestyle]   \n",
       "\n",
       "                                                                                                                                                                                                                                                                                                                                                          attributes_links  \\\n",
       "0                                                      [https://www.goat.com/sneakers/brand/air%20jordan, https://www.goat.com/sneakers/color/Black, https://www.goat.com/sneakers/designer/Tinker%20Hatfield, https://www.goat.com/sneakers/silhouette/air%20jordan%2011, https://www.goat.com/sneakers/technology/Air, https://www.goat.com/sneakers/category/Lifestyle]   \n",
       "1                                                              [https://www.goat.com/sneakers/brand/adidas, https://www.goat.com/sneakers/color/Blue, https://www.goat.com/sneakers/designer/Kanye%20West, https://www.goat.com/sneakers/silhouette/yeezy%20boost%20700, https://www.goat.com/sneakers/technology/Boost, https://www.goat.com/sneakers/category/Lifestyle]   \n",
       "2                                                                                                                                                                                [https://www.goat.com/sneakers/brand/nike, https://www.goat.com/sneakers/color/Pink, https://www.goat.com/sneakers/silhouette/ldwaffle, https://www.goat.com/sneakers/category/Lifestyle]   \n",
       "3            [https://www.goat.com/sneakers/brand/nike, https://www.goat.com/sneakers/upper_material/Leather, https://www.goat.com/sneakers/color/Black, https://www.goat.com/sneakers/designer/Bruce%20Kilgore, https://www.goat.com/sneakers/silhouette/air%20force%201, https://www.goat.com/sneakers/technology/Air, https://www.goat.com/sneakers/category/Lifestyle]   \n",
       "4  [https://www.goat.com/sneakers/brand/air%20jordan, https://www.goat.com/sneakers/upper_material/Nubuck, https://www.goat.com/sneakers/color/Green, https://www.goat.com/sneakers/designer/Tinker%20Hatfield, https://www.goat.com/sneakers/silhouette/air%20jordan%206, https://www.goat.com/sneakers/technology/Air, https://www.goat.com/sneakers/category/Lifestyle]   \n",
       "\n",
       "  see_also_links  \\\n",
       "0             []   \n",
       "1             []   \n",
       "2             []   \n",
       "3             []   \n",
       "4             []   \n",
       "\n",
       "                                                             hero_fullpath  \n",
       "0  /Users/ergonyc/Projects/DATABASE/SnkrScrpr/data/goat/img/99543f4630.jpg  \n",
       "1  /Users/ergonyc/Projects/DATABASE/SnkrScrpr/data/goat/img/3fbd48e729.jpg  \n",
       "2  /Users/ergonyc/Projects/DATABASE/SnkrScrpr/data/goat/img/6721456f62.jpg  \n",
       "3  /Users/ergonyc/Projects/DATABASE/SnkrScrpr/data/goat/img/27fbbaad00.jpg  \n",
       "4  /Users/ergonyc/Projects/DATABASE/SnkrScrpr/data/goat/img/df16a19226.jpg  "
      ]
     },
     "execution_count": null,
     "metadata": {},
     "output_type": "execute_result"
    }
   ],
   "source": [
    "df_scraped = pd.read_pickle(f\"{SCRAPED_META_DIR/SCRAPED_DF}.pkl\")\n",
    "\n",
    "# load into pandas\n",
    "attributes = df_scraped.attributes.values\n",
    "description = df_scraped.description.values\n",
    "df_scraped.head()"
   ]
  },
  {
   "cell_type": "markdown",
   "metadata": {},
   "source": [
    "I need to put the scraped databases from SNS (sneakersnstuff.com) and GOAT (goat.com) into a dataframe with columns suitable merge with the UTZappos database I originally started with.   \n",
    "I'll spend some time infering the `Category`, `Brand`, `Gender` (and `model`?) so I can pay attention to class balance .  From the transfer learning work, the `Slippers` category is pretty poor, but I should be able to use that net to label the scraped data... and validate based on the `attributes` and `see_also` fields.\n",
    "\n",
    "First things first:  fix the \"hero_fullpath\" so its agnostic of OS (Mac or Linux).\n"
   ]
  },
  {
   "cell_type": "code",
   "execution_count": null,
   "metadata": {
    "tags": []
   },
   "outputs": [
    {
     "data": {
      "text/plain": [
       "0       scraped/goat/99543f4630.jpg\n",
       "1       scraped/goat/3fbd48e729.jpg\n",
       "2       scraped/goat/6721456f62.jpg\n",
       "3       scraped/goat/27fbbaad00.jpg\n",
       "4       scraped/goat/df16a19226.jpg\n",
       "                   ...             \n",
       "1333     scraped/sns/eb4f3eada8.jpg\n",
       "1334     scraped/sns/5dace85f70.jpg\n",
       "1335     scraped/sns/2a18731113.jpg\n",
       "1336     scraped/sns/9cb275f3aa.jpg\n",
       "1337     scraped/sns/6d6c0b7b97.jpg\n",
       "Name: path, Length: 2337, dtype: object"
      ]
     },
     "execution_count": null,
     "metadata": {},
     "output_type": "execute_result"
    }
   ],
   "source": [
    "# this cooresponds to the relative path in DBS_REL['goat'] and DBS_REL['sns']\n",
    "df_scraped.loc[:,\"path\"]=df_scraped.hero_fullpath.str.split('/').apply(lambda x: 'scraped/'+x[-3]+'/'+x[-1])\n",
    "df_scraped[\"path\"]"
   ]
  },
  {
   "cell_type": "code",
   "execution_count": null,
   "metadata": {},
   "outputs": [],
   "source": [
    "#export\n",
    "def extract_cat(lst):\n",
    "    for l in lst:\n",
    "        if l.startswith(\"CATEGORY\"):\n",
    "            return l.split(\"\\n\")[-1]\n",
    "    return \"na\" #np.nan\n",
    "\n",
    "def extract_brand_goat(lst):\n",
    "    for l in lst:\n",
    "        if l.startswith(\"BRAND\"):\n",
    "            return l.split(\"\\n\")[-1]\n",
    "    return \"na\"\n",
    "\n",
    "def extract_brand_sns(lst):\n",
    "    return lst[1]\n",
    "\n",
    "def extract_db_nm(pathn):\n",
    "    return pathn.split('/')[0]\n"
   ]
  },
  {
   "cell_type": "code",
   "execution_count": null,
   "metadata": {},
   "outputs": [],
   "source": [
    "df_scraped.loc[:,\"brand\"]=df_scraped.attributes.apply(extract_brand_sns)\n",
    "df_scraped.loc[:,\"cat\"]=df_scraped.attributes.apply(extract_cat)\n"
   ]
  },
  {
   "cell_type": "code",
   "execution_count": null,
   "metadata": {},
   "outputs": [
    {
     "data": {
      "text/plain": [
       "'goat'"
      ]
     },
     "execution_count": null,
     "metadata": {},
     "output_type": "execute_result"
    }
   ],
   "source": [
    "\n",
    "df_scraped[\"attributes\"].values[-5]\n",
    "df_scraped[\"path\"].values[0].split(\"/\")[1]"
   ]
  },
  {
   "cell_type": "code",
   "execution_count": null,
   "metadata": {},
   "outputs": [],
   "source": [
    "df_scraped.loc[:,\"db_name\"]=df_scraped[\"path\"].apply(extract_db_nm)\n",
    "\n",
    "df_scraped.loc[df_scraped['db_name']=='goat',\"brand\"]=df_scraped.loc[df_scraped['db_name']=='goat',\"attributes\"].apply(extract_brand_goat)"
   ]
  },
  {
   "cell_type": "code",
   "execution_count": null,
   "metadata": {},
   "outputs": [],
   "source": [
    "df_scraped_og = df_scraped"
   ]
  },
  {
   "cell_type": "markdown",
   "metadata": {},
   "source": [
    "Now we just need to wrap the above proceedure into a little function for exporting..."
   ]
  },
  {
   "cell_type": "code",
   "execution_count": null,
   "metadata": {},
   "outputs": [],
   "source": [
    "# export\n",
    "def get_scraped_db():\n",
    "    \"collect meta data fromscraped databases\"\n",
    "    \n",
    "    def _extract_cat(lst):\n",
    "        for l in lst:\n",
    "            if l.startswith(\"CATEGORY\"):\n",
    "                return l.split(\"\\n\")[-1]\n",
    "        return \"na\" #np.nan\n",
    "\n",
    "    def _extract_brand_goat(lst):\n",
    "        for l in lst:\n",
    "            if l.startswith(\"BRAND\"):\n",
    "                return l.split(\"\\n\")[-1]\n",
    "        return \"na\"\n",
    "\n",
    "    def _extract_brand_sns(lst):\n",
    "        return lst[1]\n",
    "\n",
    "    def _extract_db_nm(pathn):\n",
    "        return pathn.split('/')[0]\n",
    "    \n",
    "    df_scraped = pd.read_pickle(f\"{SCRAPED_META_DIR/SCRAPED_DF}.pkl\")\n",
    "    df_scraped.loc[:,\"path\"]=df_scraped.hero_fullpath.str.split('/').apply(lambda x: 'scraped/'+x[-3]+'/'+x[-1])\n",
    "    df_scraped.loc[:,\"brand\"]=df_scraped.attributes.apply(_extract_brand_sns)\n",
    "    df_scraped.loc[:,\"cat\"]=df_scraped.attributes.apply(_extract_cat)\n",
    "    df_scraped.loc[:,\"db_name\"]=df_scraped[\"path\"].apply(_extract_db_nm)\n",
    "    df_scraped.loc[df_scraped['db_name']=='goat',\"brand\"]=df_scraped.loc[df_scraped['db_name']=='goat',\"attributes\"].apply(_extract_brand_goat)\n",
    "    return df_scraped\n"
   ]
  },
  {
   "cell_type": "code",
   "execution_count": null,
   "metadata": {},
   "outputs": [],
   "source": [
    "# export\n",
    "def merge_dbs(df_zappos,df_scraped):\n",
    "    \"could be any dfs with 'path','train','test','validate','t_t_v'\"\n",
    "    # TODO:  add \"is_valid\" wiich is test and (so validate are part of test)?)\n",
    "    return pd.merge(df_zappos,df_scraped,how='outer',on=['path','train','test','validate','t_t_v'])"
   ]
  },
  {
   "cell_type": "code",
   "execution_count": null,
   "metadata": {},
   "outputs": [],
   "source": [
    "df = get_scraped_db()"
   ]
  },
  {
   "cell_type": "code",
   "execution_count": null,
   "metadata": {},
   "outputs": [],
   "source": [
    "# stratify across db_name\n",
    "# skl_tt_split defined in data.zappos\n",
    "df_scraped = skl_tt_split(df,df.db_name)"
   ]
  },
  {
   "cell_type": "code",
   "execution_count": null,
   "metadata": {},
   "outputs": [
    {
     "data": {
      "text/html": [
       "<div>\n",
       "<style scoped>\n",
       "    .dataframe tbody tr th:only-of-type {\n",
       "        vertical-align: middle;\n",
       "    }\n",
       "\n",
       "    .dataframe tbody tr th {\n",
       "        vertical-align: top;\n",
       "    }\n",
       "\n",
       "    .dataframe thead th {\n",
       "        text-align: right;\n",
       "    }\n",
       "</style>\n",
       "<table border=\"1\" class=\"dataframe\">\n",
       "  <thead>\n",
       "    <tr style=\"text-align: right;\">\n",
       "      <th></th>\n",
       "      <th>train</th>\n",
       "      <th>test</th>\n",
       "      <th>validate</th>\n",
       "      <th>t_t_v</th>\n",
       "    </tr>\n",
       "  </thead>\n",
       "  <tbody>\n",
       "    <tr>\n",
       "      <th>0</th>\n",
       "      <td>True</td>\n",
       "      <td>False</td>\n",
       "      <td>False</td>\n",
       "      <td>train</td>\n",
       "    </tr>\n",
       "    <tr>\n",
       "      <th>1</th>\n",
       "      <td>True</td>\n",
       "      <td>False</td>\n",
       "      <td>False</td>\n",
       "      <td>train</td>\n",
       "    </tr>\n",
       "    <tr>\n",
       "      <th>2</th>\n",
       "      <td>False</td>\n",
       "      <td>True</td>\n",
       "      <td>False</td>\n",
       "      <td>test</td>\n",
       "    </tr>\n",
       "    <tr>\n",
       "      <th>3</th>\n",
       "      <td>True</td>\n",
       "      <td>False</td>\n",
       "      <td>False</td>\n",
       "      <td>train</td>\n",
       "    </tr>\n",
       "    <tr>\n",
       "      <th>4</th>\n",
       "      <td>True</td>\n",
       "      <td>False</td>\n",
       "      <td>False</td>\n",
       "      <td>train</td>\n",
       "    </tr>\n",
       "  </tbody>\n",
       "</table>\n",
       "</div>"
      ],
      "text/plain": [
       "   train   test validate  t_t_v\n",
       "0   True  False    False  train\n",
       "1   True  False    False  train\n",
       "2  False   True    False   test\n",
       "3   True  False    False  train\n",
       "4   True  False    False  train"
      ]
     },
     "execution_count": null,
     "metadata": {},
     "output_type": "execute_result"
    }
   ],
   "source": [
    "df_test = merge_dbs(df_zappos,df_scraped)\n",
    "\n",
    "df_scraped.columns,df_zappos.columns,df_test.columns\n",
    "\n",
    "df_scraped.shape,df_zappos.shape,df_test.shape\n",
    "df_test[[\"train\",\"test\",\"validate\",\"t_t_v\"]].head()"
   ]
  },
  {
   "cell_type": "code",
   "execution_count": null,
   "metadata": {
    "tags": []
   },
   "outputs": [],
   "source": [
    "# save the combined db for easy access later.\n",
    "df_test.to_pickle(os.path.join(\"data\", f\"{COMBINED_DF}.pkl\"))\n"
   ]
  },
  {
   "cell_type": "code",
   "execution_count": null,
   "metadata": {},
   "outputs": [
    {
     "name": "stdout",
     "output_type": "stream",
     "text": [
      "Converted 00_core.ipynb.\n",
      "Converted 01a_data.zappos.ipynb.\n",
      "Converted 01b_data.scraped.ipynb.\n",
      "Converted 02a_model.core.ipynb.\n",
      "Converted 02b_model.transfer.ipynb.\n",
      "Converted 03_latenttarget_cvae.ipynb.\n",
      "Converted 04_widgets.ipynb.\n",
      "Converted index.ipynb.\n"
     ]
    }
   ],
   "source": [
    "# hide\n",
    "\n",
    "from nbdev.export import notebook2script\n",
    "notebook2script()\n",
    "\n"
   ]
  },
  {
   "cell_type": "code",
   "execution_count": null,
   "metadata": {},
   "outputs": [],
   "source": []
  },
  {
   "cell_type": "code",
   "execution_count": null,
   "metadata": {},
   "outputs": [],
   "source": []
  }
 ],
 "metadata": {
  "kernelspec": {
   "display_name": "Python 3",
   "language": "python",
   "name": "python3"
  }
 },
 "nbformat": 4,
 "nbformat_minor": 2
}
