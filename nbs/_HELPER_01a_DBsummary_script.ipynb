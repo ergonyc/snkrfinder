{
 "cells": [
  {
   "cell_type": "code",
   "execution_count": null,
   "metadata": {},
   "outputs": [],
   "source": [
    "# default_exp data"
   ]
  },
  {
   "cell_type": "code",
   "execution_count": null,
   "metadata": {},
   "outputs": [],
   "source": [
    "# export\n",
    "from snkrfinder.imports import *\n",
    "from snkrfinder.core import *\n",
    "from snkrfinder.data import *\n",
    "\n"
   ]
  },
  {
   "cell_type": "markdown",
   "metadata": {},
   "source": [
    "# snkrfinder helper\n",
    "\n",
    "### version 2.0 May 2021 ()\n",
    "\n",
    "## create and save some useful dataframes\n",
    "\n",
    "Script to generate and save the shortcut Pandas dataframes summarizing the database of images.   \n",
    "\n",
    "NOTE:  symbolic link in the nbs directory to enable the module loads in these notebooks.  i.e. `ln -s ../snkrfinder/ snkrfinder`\n",
    "\n",
    "\n"
   ]
  },
  {
   "cell_type": "code",
   "execution_count": null,
   "metadata": {},
   "outputs": [
    {
     "name": "stdout",
     "output_type": "stream",
     "text": [
      "/home/ergonyc/Projects/Project2.0/snkrfinder/nbs\n"
     ]
    }
   ],
   "source": [
    "#hide\n",
    "\n",
    "print(Path().cwd())"
   ]
  },
  {
   "cell_type": "code",
   "execution_count": null,
   "metadata": {},
   "outputs": [
    {
     "name": "stdout",
     "output_type": "stream",
     "text": [
      "moved out of `nbs` directory\n",
      "/home/ergonyc/Projects/Project2.0/snkrfinder\n"
     ]
    }
   ],
   "source": [
    "#hide\n",
    "if Path().cwd().parts[-1] == 'nbs': \n",
    "    os.chdir('..')\n",
    "    print('moved out of `nbs` directory')\n",
    "    \n",
    "print(Path().cwd())"
   ]
  },
  {
   "cell_type": "code",
   "execution_count": null,
   "metadata": {},
   "outputs": [
    {
     "data": {
      "text/plain": [
       "Path('/home/ergonyc/Projects/Project2.0/snkrfinder/data/raw')"
      ]
     },
     "execution_count": null,
     "metadata": {},
     "output_type": "execute_result"
    }
   ],
   "source": [
    "D_ROOT\n"
   ]
  },
  {
   "cell_type": "markdown",
   "metadata": {},
   "source": [
    "\n",
    "### Part 1: import the UT-Zappos50k database\n",
    "\n",
    "Using fastai `untar_data`."
   ]
  },
  {
   "cell_type": "markdown",
   "metadata": {},
   "source": [
    "First we need to get a database of sneaker images.   The sneaker images are only 136 pixels wide, and organized by 'Category', 'SubCategory', and 'Brand'.   Additional semantic information is also available from Mechanical Turk labeling, and is available packed into matlab files.  "
   ]
  },
  {
   "cell_type": "code",
   "execution_count": null,
   "metadata": {},
   "outputs": [],
   "source": [
    "meta_path, im_path = get_zappos_db()\n",
    "\n",
    "assert (meta_path==ZAPPOS_META_DIR)\n",
    "assert(im_path==D_ROOT/DBS[\"zappos\"])\n"
   ]
  },
  {
   "cell_type": "code",
   "execution_count": null,
   "metadata": {},
   "outputs": [],
   "source": [
    "df = read_zappos_meta(meta_path)\n",
    "\n",
    "assert (df['Category'] == df['Category1']).all()\n",
    "assert (df['SubCategory'] == df['Category2']).all()"
   ]
  },
  {
   "cell_type": "markdown",
   "metadata": {},
   "source": [
    "### data set cleaning\n",
    "\n",
    "The dataset is very diverse and not constructed in order to think about how popular footwear is aesthetically related.  I'm simplifying the database to include 3 main categories which seem to split aesthetics for general footwear:\n",
    "\n",
    "    1. BOOTS - weatherized and/or protected footwear for work or outdoor activity\n",
    "    2. SHOES - generic non \"boot\" footwear.  includes heels and formalwear\n",
    "    3. SNEAKERS - atheletic / comfort inspired \n",
    "\n",
    "I will also make a fourth category which might be useful:\n",
    "\n",
    "    4. SLIPPERS - charachterized by a sole and straps\n",
    "\n"
   ]
  },
  {
   "cell_type": "code",
   "execution_count": null,
   "metadata": {},
   "outputs": [
    {
     "data": {
      "text/html": [
       "<div>\n",
       "<style scoped>\n",
       "    .dataframe tbody tr th:only-of-type {\n",
       "        vertical-align: middle;\n",
       "    }\n",
       "\n",
       "    .dataframe tbody tr th {\n",
       "        vertical-align: top;\n",
       "    }\n",
       "\n",
       "    .dataframe thead th {\n",
       "        text-align: right;\n",
       "    }\n",
       "</style>\n",
       "<table border=\"1\" class=\"dataframe\">\n",
       "  <thead>\n",
       "    <tr style=\"text-align: right;\">\n",
       "      <th></th>\n",
       "      <th>CID</th>\n",
       "      <th>Category</th>\n",
       "      <th>SubCategory</th>\n",
       "      <th>HeelHeight</th>\n",
       "      <th>Insole</th>\n",
       "      <th>Closure</th>\n",
       "      <th>Gender</th>\n",
       "      <th>Material</th>\n",
       "      <th>ToeStyle</th>\n",
       "      <th>path</th>\n",
       "      <th>...</th>\n",
       "      <th>ToeStyle.Apron Toe</th>\n",
       "      <th>ToeStyle.Wide Toe Box</th>\n",
       "      <th>ToeStyle.Snip Toe</th>\n",
       "      <th>ToeStyle.Peep Toe</th>\n",
       "      <th>ToeStyle.Medallion</th>\n",
       "      <th>path_and_file</th>\n",
       "      <th>Category1</th>\n",
       "      <th>Category2</th>\n",
       "      <th>Brand</th>\n",
       "      <th>Filename</th>\n",
       "    </tr>\n",
       "  </thead>\n",
       "  <tbody>\n",
       "    <tr>\n",
       "      <th>0</th>\n",
       "      <td>100627-72</td>\n",
       "      <td>Shoes</td>\n",
       "      <td>Oxfords</td>\n",
       "      <td>NaN</td>\n",
       "      <td>Leather</td>\n",
       "      <td>Lace up</td>\n",
       "      <td>Men</td>\n",
       "      <td>Leather</td>\n",
       "      <td>Capped Toe;Round Toe</td>\n",
       "      <td>ut-zap50k-images/Shoes/Oxfords/Bostonian/100627.72.jpg</td>\n",
       "      <td>...</td>\n",
       "      <td>0</td>\n",
       "      <td>0</td>\n",
       "      <td>0</td>\n",
       "      <td>0</td>\n",
       "      <td>0</td>\n",
       "      <td>[Shoes, Oxfords, Bostonian, 100627.72.jpg]</td>\n",
       "      <td>Shoes</td>\n",
       "      <td>Oxfords</td>\n",
       "      <td>Bostonian</td>\n",
       "      <td>100627.72.jpg</td>\n",
       "    </tr>\n",
       "    <tr>\n",
       "      <th>1</th>\n",
       "      <td>100627-255</td>\n",
       "      <td>Shoes</td>\n",
       "      <td>Oxfords</td>\n",
       "      <td>NaN</td>\n",
       "      <td>Leather</td>\n",
       "      <td>Lace up</td>\n",
       "      <td>Men</td>\n",
       "      <td>Leather</td>\n",
       "      <td>Capped Toe;Round Toe</td>\n",
       "      <td>ut-zap50k-images/Shoes/Oxfords/Bostonian/100627.255.jpg</td>\n",
       "      <td>...</td>\n",
       "      <td>0</td>\n",
       "      <td>0</td>\n",
       "      <td>0</td>\n",
       "      <td>0</td>\n",
       "      <td>0</td>\n",
       "      <td>[Shoes, Oxfords, Bostonian, 100627.255.jpg]</td>\n",
       "      <td>Shoes</td>\n",
       "      <td>Oxfords</td>\n",
       "      <td>Bostonian</td>\n",
       "      <td>100627.255.jpg</td>\n",
       "    </tr>\n",
       "    <tr>\n",
       "      <th>2</th>\n",
       "      <td>100657-72</td>\n",
       "      <td>Shoes</td>\n",
       "      <td>Oxfords</td>\n",
       "      <td>NaN</td>\n",
       "      <td>Leather;Padded;Removable</td>\n",
       "      <td>Lace up</td>\n",
       "      <td>Men</td>\n",
       "      <td>Leather</td>\n",
       "      <td>Capped Toe;Round Toe</td>\n",
       "      <td>ut-zap50k-images/Shoes/Oxfords/Bostonian/100657.72.jpg</td>\n",
       "      <td>...</td>\n",
       "      <td>0</td>\n",
       "      <td>0</td>\n",
       "      <td>0</td>\n",
       "      <td>0</td>\n",
       "      <td>0</td>\n",
       "      <td>[Shoes, Oxfords, Bostonian, 100657.72.jpg]</td>\n",
       "      <td>Shoes</td>\n",
       "      <td>Oxfords</td>\n",
       "      <td>Bostonian</td>\n",
       "      <td>100657.72.jpg</td>\n",
       "    </tr>\n",
       "    <tr>\n",
       "      <th>3</th>\n",
       "      <td>100657-216</td>\n",
       "      <td>Shoes</td>\n",
       "      <td>Oxfords</td>\n",
       "      <td>NaN</td>\n",
       "      <td>Leather;Padded;Removable</td>\n",
       "      <td>Lace up</td>\n",
       "      <td>Men</td>\n",
       "      <td>Leather</td>\n",
       "      <td>Capped Toe;Round Toe</td>\n",
       "      <td>ut-zap50k-images/Shoes/Oxfords/Bostonian/100657.216.jpg</td>\n",
       "      <td>...</td>\n",
       "      <td>0</td>\n",
       "      <td>0</td>\n",
       "      <td>0</td>\n",
       "      <td>0</td>\n",
       "      <td>0</td>\n",
       "      <td>[Shoes, Oxfords, Bostonian, 100657.216.jpg]</td>\n",
       "      <td>Shoes</td>\n",
       "      <td>Oxfords</td>\n",
       "      <td>Bostonian</td>\n",
       "      <td>100657.216.jpg</td>\n",
       "    </tr>\n",
       "    <tr>\n",
       "      <th>4</th>\n",
       "      <td>101026-3</td>\n",
       "      <td>Boots</td>\n",
       "      <td>Mid-Calf</td>\n",
       "      <td>1in - 1 3/4in</td>\n",
       "      <td>Leather;Padded</td>\n",
       "      <td>Pull-on</td>\n",
       "      <td>Men</td>\n",
       "      <td>Leather;Rubber</td>\n",
       "      <td>Square Toe;Closed Toe</td>\n",
       "      <td>ut-zap50k-images/Boots/Mid-Calf/Durango/101026.3.jpg</td>\n",
       "      <td>...</td>\n",
       "      <td>0</td>\n",
       "      <td>0</td>\n",
       "      <td>0</td>\n",
       "      <td>0</td>\n",
       "      <td>0</td>\n",
       "      <td>[Boots, Mid-Calf, Durango, 101026.3.jpg]</td>\n",
       "      <td>Boots</td>\n",
       "      <td>Mid-Calf</td>\n",
       "      <td>Durango</td>\n",
       "      <td>101026.3.jpg</td>\n",
       "    </tr>\n",
       "  </tbody>\n",
       "</table>\n",
       "<p>5 rows × 166 columns</p>\n",
       "</div>"
      ],
      "text/plain": [
       "          CID Category SubCategory     HeelHeight                    Insole  \\\n",
       "0   100627-72    Shoes     Oxfords            NaN                   Leather   \n",
       "1  100627-255    Shoes     Oxfords            NaN                   Leather   \n",
       "2   100657-72    Shoes     Oxfords            NaN  Leather;Padded;Removable   \n",
       "3  100657-216    Shoes     Oxfords            NaN  Leather;Padded;Removable   \n",
       "4    101026-3    Boots    Mid-Calf  1in - 1 3/4in            Leather;Padded   \n",
       "\n",
       "   Closure Gender        Material               ToeStyle  \\\n",
       "0  Lace up    Men         Leather   Capped Toe;Round Toe   \n",
       "1  Lace up    Men         Leather   Capped Toe;Round Toe   \n",
       "2  Lace up    Men         Leather   Capped Toe;Round Toe   \n",
       "3  Lace up    Men         Leather   Capped Toe;Round Toe   \n",
       "4  Pull-on    Men  Leather;Rubber  Square Toe;Closed Toe   \n",
       "\n",
       "                                                      path  ...  \\\n",
       "0   ut-zap50k-images/Shoes/Oxfords/Bostonian/100627.72.jpg  ...   \n",
       "1  ut-zap50k-images/Shoes/Oxfords/Bostonian/100627.255.jpg  ...   \n",
       "2   ut-zap50k-images/Shoes/Oxfords/Bostonian/100657.72.jpg  ...   \n",
       "3  ut-zap50k-images/Shoes/Oxfords/Bostonian/100657.216.jpg  ...   \n",
       "4     ut-zap50k-images/Boots/Mid-Calf/Durango/101026.3.jpg  ...   \n",
       "\n",
       "   ToeStyle.Apron Toe  ToeStyle.Wide Toe Box  ToeStyle.Snip Toe  \\\n",
       "0                   0                      0                  0   \n",
       "1                   0                      0                  0   \n",
       "2                   0                      0                  0   \n",
       "3                   0                      0                  0   \n",
       "4                   0                      0                  0   \n",
       "\n",
       "   ToeStyle.Peep Toe  ToeStyle.Medallion  \\\n",
       "0                  0                   0   \n",
       "1                  0                   0   \n",
       "2                  0                   0   \n",
       "3                  0                   0   \n",
       "4                  0                   0   \n",
       "\n",
       "                                 path_and_file  Category1  Category2  \\\n",
       "0   [Shoes, Oxfords, Bostonian, 100627.72.jpg]      Shoes    Oxfords   \n",
       "1  [Shoes, Oxfords, Bostonian, 100627.255.jpg]      Shoes    Oxfords   \n",
       "2   [Shoes, Oxfords, Bostonian, 100657.72.jpg]      Shoes    Oxfords   \n",
       "3  [Shoes, Oxfords, Bostonian, 100657.216.jpg]      Shoes    Oxfords   \n",
       "4     [Boots, Mid-Calf, Durango, 101026.3.jpg]      Boots   Mid-Calf   \n",
       "\n",
       "       Brand        Filename  \n",
       "0  Bostonian   100627.72.jpg  \n",
       "1  Bostonian  100627.255.jpg  \n",
       "2  Bostonian   100657.72.jpg  \n",
       "3  Bostonian  100657.216.jpg  \n",
       "4    Durango    101026.3.jpg  \n",
       "\n",
       "[5 rows x 166 columns]"
      ]
     },
     "execution_count": null,
     "metadata": {},
     "output_type": "execute_result"
    }
   ],
   "source": [
    "df.head()"
   ]
  },
  {
   "cell_type": "markdown",
   "metadata": {},
   "source": [
    "I've taken several steps to try and simplify the \"asethetic\" space the modeling will need to capture is to exclude some particular sub-categories which represent extremes.  E.g. High cut boots, high-heels, and kids sub-categores. Indeed, I will only include \"adult\" shoes at this time but excluding \"kids\" and some edge cases because the overall size scale distorts the overall \"aesthetics\" I'd like to get at. \n"
   ]
  },
  {
   "cell_type": "code",
   "execution_count": null,
   "metadata": {},
   "outputs": [],
   "source": [
    "df = simplify_zappos_db(df)"
   ]
  },
  {
   "cell_type": "code",
   "execution_count": null,
   "metadata": {},
   "outputs": [
    {
     "data": {
      "text/html": [
       "<div>\n",
       "<style scoped>\n",
       "    .dataframe tbody tr th:only-of-type {\n",
       "        vertical-align: middle;\n",
       "    }\n",
       "\n",
       "    .dataframe tbody tr th {\n",
       "        vertical-align: top;\n",
       "    }\n",
       "\n",
       "    .dataframe thead th {\n",
       "        text-align: right;\n",
       "    }\n",
       "</style>\n",
       "<table border=\"1\" class=\"dataframe\">\n",
       "  <thead>\n",
       "    <tr style=\"text-align: right;\">\n",
       "      <th></th>\n",
       "      <th>CID</th>\n",
       "      <th>Category</th>\n",
       "      <th>path</th>\n",
       "      <th>path_and_file</th>\n",
       "      <th>Category1</th>\n",
       "      <th>Category2</th>\n",
       "      <th>Filename</th>\n",
       "      <th>Sneakers</th>\n",
       "      <th>Boots</th>\n",
       "      <th>Shoes</th>\n",
       "      <th>Slippers</th>\n",
       "      <th>Adult</th>\n",
       "      <th>Gender</th>\n",
       "    </tr>\n",
       "  </thead>\n",
       "  <tbody>\n",
       "    <tr>\n",
       "      <th>0</th>\n",
       "      <td>100627-72</td>\n",
       "      <td>Shoes</td>\n",
       "      <td>ut-zap50k-images/Shoes/Oxfords/Bostonian/100627.72.jpg</td>\n",
       "      <td>[Shoes, Oxfords, Bostonian, 100627.72.jpg]</td>\n",
       "      <td>Shoes</td>\n",
       "      <td>Oxfords</td>\n",
       "      <td>100627.72.jpg</td>\n",
       "      <td>False</td>\n",
       "      <td>False</td>\n",
       "      <td>True</td>\n",
       "      <td>False</td>\n",
       "      <td>True</td>\n",
       "      <td>Men</td>\n",
       "    </tr>\n",
       "    <tr>\n",
       "      <th>1</th>\n",
       "      <td>100627-255</td>\n",
       "      <td>Shoes</td>\n",
       "      <td>ut-zap50k-images/Shoes/Oxfords/Bostonian/100627.255.jpg</td>\n",
       "      <td>[Shoes, Oxfords, Bostonian, 100627.255.jpg]</td>\n",
       "      <td>Shoes</td>\n",
       "      <td>Oxfords</td>\n",
       "      <td>100627.255.jpg</td>\n",
       "      <td>False</td>\n",
       "      <td>False</td>\n",
       "      <td>True</td>\n",
       "      <td>False</td>\n",
       "      <td>True</td>\n",
       "      <td>Men</td>\n",
       "    </tr>\n",
       "    <tr>\n",
       "      <th>2</th>\n",
       "      <td>100657-72</td>\n",
       "      <td>Shoes</td>\n",
       "      <td>ut-zap50k-images/Shoes/Oxfords/Bostonian/100657.72.jpg</td>\n",
       "      <td>[Shoes, Oxfords, Bostonian, 100657.72.jpg]</td>\n",
       "      <td>Shoes</td>\n",
       "      <td>Oxfords</td>\n",
       "      <td>100657.72.jpg</td>\n",
       "      <td>False</td>\n",
       "      <td>False</td>\n",
       "      <td>True</td>\n",
       "      <td>False</td>\n",
       "      <td>True</td>\n",
       "      <td>Men</td>\n",
       "    </tr>\n",
       "    <tr>\n",
       "      <th>3</th>\n",
       "      <td>100657-216</td>\n",
       "      <td>Shoes</td>\n",
       "      <td>ut-zap50k-images/Shoes/Oxfords/Bostonian/100657.216.jpg</td>\n",
       "      <td>[Shoes, Oxfords, Bostonian, 100657.216.jpg]</td>\n",
       "      <td>Shoes</td>\n",
       "      <td>Oxfords</td>\n",
       "      <td>100657.216.jpg</td>\n",
       "      <td>False</td>\n",
       "      <td>False</td>\n",
       "      <td>True</td>\n",
       "      <td>False</td>\n",
       "      <td>True</td>\n",
       "      <td>Men</td>\n",
       "    </tr>\n",
       "    <tr>\n",
       "      <th>4</th>\n",
       "      <td>101026-3</td>\n",
       "      <td>Boots</td>\n",
       "      <td>ut-zap50k-images/Boots/Mid-Calf/Durango/101026.3.jpg</td>\n",
       "      <td>[Boots, Mid-Calf, Durango, 101026.3.jpg]</td>\n",
       "      <td>Boots</td>\n",
       "      <td>Mid-Calf</td>\n",
       "      <td>101026.3.jpg</td>\n",
       "      <td>False</td>\n",
       "      <td>True</td>\n",
       "      <td>False</td>\n",
       "      <td>False</td>\n",
       "      <td>True</td>\n",
       "      <td>Men</td>\n",
       "    </tr>\n",
       "  </tbody>\n",
       "</table>\n",
       "</div>"
      ],
      "text/plain": [
       "          CID Category  \\\n",
       "0   100627-72    Shoes   \n",
       "1  100627-255    Shoes   \n",
       "2   100657-72    Shoes   \n",
       "3  100657-216    Shoes   \n",
       "4    101026-3    Boots   \n",
       "\n",
       "                                                      path  \\\n",
       "0   ut-zap50k-images/Shoes/Oxfords/Bostonian/100627.72.jpg   \n",
       "1  ut-zap50k-images/Shoes/Oxfords/Bostonian/100627.255.jpg   \n",
       "2   ut-zap50k-images/Shoes/Oxfords/Bostonian/100657.72.jpg   \n",
       "3  ut-zap50k-images/Shoes/Oxfords/Bostonian/100657.216.jpg   \n",
       "4     ut-zap50k-images/Boots/Mid-Calf/Durango/101026.3.jpg   \n",
       "\n",
       "                                 path_and_file Category1 Category2  \\\n",
       "0   [Shoes, Oxfords, Bostonian, 100627.72.jpg]     Shoes   Oxfords   \n",
       "1  [Shoes, Oxfords, Bostonian, 100627.255.jpg]     Shoes   Oxfords   \n",
       "2   [Shoes, Oxfords, Bostonian, 100657.72.jpg]     Shoes   Oxfords   \n",
       "3  [Shoes, Oxfords, Bostonian, 100657.216.jpg]     Shoes   Oxfords   \n",
       "4     [Boots, Mid-Calf, Durango, 101026.3.jpg]     Boots  Mid-Calf   \n",
       "\n",
       "         Filename  Sneakers  Boots  Shoes  Slippers  Adult Gender  \n",
       "0   100627.72.jpg     False  False   True     False   True    Men  \n",
       "1  100627.255.jpg     False  False   True     False   True    Men  \n",
       "2   100657.72.jpg     False  False   True     False   True    Men  \n",
       "3  100657.216.jpg     False  False   True     False   True    Men  \n",
       "4    101026.3.jpg     False   True  False     False   True    Men  "
      ]
     },
     "execution_count": null,
     "metadata": {},
     "output_type": "execute_result"
    }
   ],
   "source": [
    "#hide\n",
    "df.head()"
   ]
  },
  {
   "cell_type": "markdown",
   "metadata": {},
   "source": [
    "------------"
   ]
  },
  {
   "cell_type": "markdown",
   "metadata": {},
   "source": [
    "## Prepare the simplified dataframe for further analysis\n",
    "\n",
    "\n",
    "Also use sklearn `train_test_split` to create category stratified train/test/validate groups.  We'll keep 15 percent of our data to truly test."
   ]
  },
  {
   "cell_type": "code",
   "execution_count": null,
   "metadata": {},
   "outputs": [
    {
     "data": {
      "text/html": [
       "<div>\n",
       "<style scoped>\n",
       "    .dataframe tbody tr th:only-of-type {\n",
       "        vertical-align: middle;\n",
       "    }\n",
       "\n",
       "    .dataframe tbody tr th {\n",
       "        vertical-align: top;\n",
       "    }\n",
       "\n",
       "    .dataframe thead th {\n",
       "        text-align: right;\n",
       "    }\n",
       "</style>\n",
       "<table border=\"1\" class=\"dataframe\">\n",
       "  <thead>\n",
       "    <tr style=\"text-align: right;\">\n",
       "      <th></th>\n",
       "      <th>CID</th>\n",
       "      <th>Category</th>\n",
       "      <th>path</th>\n",
       "      <th>path_and_file</th>\n",
       "      <th>Category1</th>\n",
       "      <th>Category2</th>\n",
       "      <th>Filename</th>\n",
       "      <th>Sneakers</th>\n",
       "      <th>Boots</th>\n",
       "      <th>Shoes</th>\n",
       "      <th>Slippers</th>\n",
       "      <th>Adult</th>\n",
       "      <th>Gender</th>\n",
       "      <th>train</th>\n",
       "      <th>test</th>\n",
       "      <th>validate</th>\n",
       "      <th>t_t_v</th>\n",
       "    </tr>\n",
       "  </thead>\n",
       "  <tbody>\n",
       "    <tr>\n",
       "      <th>0</th>\n",
       "      <td>100627-72</td>\n",
       "      <td>Shoes</td>\n",
       "      <td>ut-zap50k-images/Shoes/Oxfords/Bostonian/100627.72.jpg</td>\n",
       "      <td>[Shoes, Oxfords, Bostonian, 100627.72.jpg]</td>\n",
       "      <td>Shoes</td>\n",
       "      <td>Oxfords</td>\n",
       "      <td>100627.72.jpg</td>\n",
       "      <td>False</td>\n",
       "      <td>False</td>\n",
       "      <td>True</td>\n",
       "      <td>False</td>\n",
       "      <td>True</td>\n",
       "      <td>Men</td>\n",
       "      <td>True</td>\n",
       "      <td>False</td>\n",
       "      <td>False</td>\n",
       "      <td>train</td>\n",
       "    </tr>\n",
       "    <tr>\n",
       "      <th>1</th>\n",
       "      <td>100627-255</td>\n",
       "      <td>Shoes</td>\n",
       "      <td>ut-zap50k-images/Shoes/Oxfords/Bostonian/100627.255.jpg</td>\n",
       "      <td>[Shoes, Oxfords, Bostonian, 100627.255.jpg]</td>\n",
       "      <td>Shoes</td>\n",
       "      <td>Oxfords</td>\n",
       "      <td>100627.255.jpg</td>\n",
       "      <td>False</td>\n",
       "      <td>False</td>\n",
       "      <td>True</td>\n",
       "      <td>False</td>\n",
       "      <td>True</td>\n",
       "      <td>Men</td>\n",
       "      <td>False</td>\n",
       "      <td>True</td>\n",
       "      <td>False</td>\n",
       "      <td>test</td>\n",
       "    </tr>\n",
       "    <tr>\n",
       "      <th>2</th>\n",
       "      <td>100657-72</td>\n",
       "      <td>Shoes</td>\n",
       "      <td>ut-zap50k-images/Shoes/Oxfords/Bostonian/100657.72.jpg</td>\n",
       "      <td>[Shoes, Oxfords, Bostonian, 100657.72.jpg]</td>\n",
       "      <td>Shoes</td>\n",
       "      <td>Oxfords</td>\n",
       "      <td>100657.72.jpg</td>\n",
       "      <td>False</td>\n",
       "      <td>False</td>\n",
       "      <td>True</td>\n",
       "      <td>False</td>\n",
       "      <td>True</td>\n",
       "      <td>Men</td>\n",
       "      <td>True</td>\n",
       "      <td>False</td>\n",
       "      <td>False</td>\n",
       "      <td>train</td>\n",
       "    </tr>\n",
       "    <tr>\n",
       "      <th>3</th>\n",
       "      <td>100657-216</td>\n",
       "      <td>Shoes</td>\n",
       "      <td>ut-zap50k-images/Shoes/Oxfords/Bostonian/100657.216.jpg</td>\n",
       "      <td>[Shoes, Oxfords, Bostonian, 100657.216.jpg]</td>\n",
       "      <td>Shoes</td>\n",
       "      <td>Oxfords</td>\n",
       "      <td>100657.216.jpg</td>\n",
       "      <td>False</td>\n",
       "      <td>False</td>\n",
       "      <td>True</td>\n",
       "      <td>False</td>\n",
       "      <td>True</td>\n",
       "      <td>Men</td>\n",
       "      <td>True</td>\n",
       "      <td>False</td>\n",
       "      <td>False</td>\n",
       "      <td>train</td>\n",
       "    </tr>\n",
       "    <tr>\n",
       "      <th>4</th>\n",
       "      <td>101026-3</td>\n",
       "      <td>Boots</td>\n",
       "      <td>ut-zap50k-images/Boots/Mid-Calf/Durango/101026.3.jpg</td>\n",
       "      <td>[Boots, Mid-Calf, Durango, 101026.3.jpg]</td>\n",
       "      <td>Boots</td>\n",
       "      <td>Mid-Calf</td>\n",
       "      <td>101026.3.jpg</td>\n",
       "      <td>False</td>\n",
       "      <td>True</td>\n",
       "      <td>False</td>\n",
       "      <td>False</td>\n",
       "      <td>True</td>\n",
       "      <td>Men</td>\n",
       "      <td>True</td>\n",
       "      <td>False</td>\n",
       "      <td>False</td>\n",
       "      <td>train</td>\n",
       "    </tr>\n",
       "  </tbody>\n",
       "</table>\n",
       "</div>"
      ],
      "text/plain": [
       "          CID Category  \\\n",
       "0   100627-72    Shoes   \n",
       "1  100627-255    Shoes   \n",
       "2   100657-72    Shoes   \n",
       "3  100657-216    Shoes   \n",
       "4    101026-3    Boots   \n",
       "\n",
       "                                                      path  \\\n",
       "0   ut-zap50k-images/Shoes/Oxfords/Bostonian/100627.72.jpg   \n",
       "1  ut-zap50k-images/Shoes/Oxfords/Bostonian/100627.255.jpg   \n",
       "2   ut-zap50k-images/Shoes/Oxfords/Bostonian/100657.72.jpg   \n",
       "3  ut-zap50k-images/Shoes/Oxfords/Bostonian/100657.216.jpg   \n",
       "4     ut-zap50k-images/Boots/Mid-Calf/Durango/101026.3.jpg   \n",
       "\n",
       "                                 path_and_file Category1 Category2  \\\n",
       "0   [Shoes, Oxfords, Bostonian, 100627.72.jpg]     Shoes   Oxfords   \n",
       "1  [Shoes, Oxfords, Bostonian, 100627.255.jpg]     Shoes   Oxfords   \n",
       "2   [Shoes, Oxfords, Bostonian, 100657.72.jpg]     Shoes   Oxfords   \n",
       "3  [Shoes, Oxfords, Bostonian, 100657.216.jpg]     Shoes   Oxfords   \n",
       "4     [Boots, Mid-Calf, Durango, 101026.3.jpg]     Boots  Mid-Calf   \n",
       "\n",
       "         Filename  Sneakers  Boots  Shoes  Slippers  Adult Gender  train  \\\n",
       "0   100627.72.jpg     False  False   True     False   True    Men   True   \n",
       "1  100627.255.jpg     False  False   True     False   True    Men  False   \n",
       "2   100657.72.jpg     False  False   True     False   True    Men   True   \n",
       "3  100657.216.jpg     False  False   True     False   True    Men   True   \n",
       "4    101026.3.jpg     False   True  False     False   True    Men   True   \n",
       "\n",
       "    test  validate  t_t_v  \n",
       "0  False     False  train  \n",
       "1   True     False   test  \n",
       "2  False     False  train  \n",
       "3  False     False  train  \n",
       "4  False     False  train  "
      ]
     },
     "execution_count": null,
     "metadata": {},
     "output_type": "execute_result"
    }
   ],
   "source": [
    "#hide\n",
    "df = skl_tt_split(df,df.Category)\n",
    "df.head()"
   ]
  },
  {
   "cell_type": "markdown",
   "metadata": {},
   "source": [
    "------------"
   ]
  },
  {
   "cell_type": "markdown",
   "metadata": {},
   "source": [
    "## pickle / unpickle the database dataframes"
   ]
  },
  {
   "cell_type": "code",
   "execution_count": null,
   "metadata": {},
   "outputs": [],
   "source": [
    "#hide\n",
    "filename = \"zappos-50k-simplified\"\n",
    "df.to_pickle(f\"data/{filename}.pkl\")\n",
    "\n",
    "\n",
    "#hide\n",
    "df2 = df.sort_values('path', ascending=True)\n",
    "df2 = df2.reset_index(drop=True)\n",
    "\n",
    "filename = \"zappos-50k-simplified_sort\"\n",
    "df2.to_pickle(f\"data/{filename}.pkl\")\n",
    "# df2.to_json(f\"data/{filename}.json\")\n",
    "\n",
    "# # filename = \"zappos-50k-simplified_sort\"\n",
    "# # df = pd.read_pickle(f\"data/{filename}.pkl\")\n",
    "# filename = f\"data/{'zappos-50k-simplified_sort'}.pkl\" \n"
   ]
  },
  {
   "cell_type": "markdown",
   "metadata": {},
   "source": [
    "------------"
   ]
  },
  {
   "cell_type": "markdown",
   "metadata": {},
   "source": [
    "## Create a unfied database of \"sneakers\"\n",
    "\n",
    "- images (need to access) path to fit beta-VAE \n",
    "- descriptions for fitting text autoencoder\n",
    "- skip \"meta\" data (will come back to this later for further analysis."
   ]
  },
  {
   "cell_type": "code",
   "execution_count": null,
   "metadata": {},
   "outputs": [],
   "source": [
    "filename = f\"data/{ZAPPOS_DF_SIMPLIFIED}.pkl\" #\"zappos-50k-simplified_sort\"\n",
    "\n",
    "if os.path.exists(filename):\n",
    "    df_zappos = pd.read_pickle(filename)"
   ]
  },
  {
   "cell_type": "code",
   "execution_count": null,
   "metadata": {},
   "outputs": [
    {
     "data": {
      "text/plain": [
       "Path('/home/ergonyc/Projects/Project2.0/snkrfinder/data/raw/scraped/full_data')"
      ]
     },
     "execution_count": null,
     "metadata": {},
     "output_type": "execute_result"
    }
   ],
   "source": [
    "SCRAPED_META_DIR/SCRAPED_DF\n"
   ]
  },
  {
   "cell_type": "code",
   "execution_count": null,
   "metadata": {},
   "outputs": [],
   "source": []
  },
  {
   "cell_type": "code",
   "execution_count": null,
   "metadata": {},
   "outputs": [],
   "source": [
    "filename = f\"{SCRAPED_META_DIR/SCRAPED_DF}.pkl\" \n",
    "filename = f\"data/{SCRAPED_DF}.pkl\"\n",
    "\n",
    "if os.path.exists(filename):\n",
    "    df_scraped = pd.read_pickle(filename)"
   ]
  },
  {
   "cell_type": "code",
   "execution_count": null,
   "metadata": {},
   "outputs": [
    {
     "data": {
      "text/html": [
       "<div>\n",
       "<style scoped>\n",
       "    .dataframe tbody tr th:only-of-type {\n",
       "        vertical-align: middle;\n",
       "    }\n",
       "\n",
       "    .dataframe tbody tr th {\n",
       "        vertical-align: top;\n",
       "    }\n",
       "\n",
       "    .dataframe thead th {\n",
       "        text-align: right;\n",
       "    }\n",
       "</style>\n",
       "<table border=\"1\" class=\"dataframe\">\n",
       "  <thead>\n",
       "    <tr style=\"text-align: right;\">\n",
       "      <th></th>\n",
       "      <th>url</th>\n",
       "      <th>hero_fullpath</th>\n",
       "    </tr>\n",
       "  </thead>\n",
       "  <tbody>\n",
       "    <tr>\n",
       "      <th>0</th>\n",
       "      <td>https://www.goat.com/sneakers/air-jordan-11-retro-bred-2012-378037-010</td>\n",
       "      <td>/Users/ergonyc/Projects/DATABASE/SnkrScrpr/data/goat/img/99543f4630.jpg</td>\n",
       "    </tr>\n",
       "    <tr>\n",
       "      <th>1</th>\n",
       "      <td>https://www.goat.com/sneakers/yeezy-boost-700-carbon-blue-yzy-700-what-the</td>\n",
       "      <td>/Users/ergonyc/Projects/DATABASE/SnkrScrpr/data/goat/img/3fbd48e729.jpg</td>\n",
       "    </tr>\n",
       "  </tbody>\n",
       "</table>\n",
       "</div>"
      ],
      "text/plain": [
       "                                                                          url  \\\n",
       "0      https://www.goat.com/sneakers/air-jordan-11-retro-bred-2012-378037-010   \n",
       "1  https://www.goat.com/sneakers/yeezy-boost-700-carbon-blue-yzy-700-what-the   \n",
       "\n",
       "                                                             hero_fullpath  \n",
       "0  /Users/ergonyc/Projects/DATABASE/SnkrScrpr/data/goat/img/99543f4630.jpg  \n",
       "1  /Users/ergonyc/Projects/DATABASE/SnkrScrpr/data/goat/img/3fbd48e729.jpg  "
      ]
     },
     "execution_count": null,
     "metadata": {},
     "output_type": "execute_result"
    }
   ],
   "source": [
    "#hide \n",
    "# attributes = df_scraped.attributes.values\n",
    "# description = df_scraped.description.values\n",
    "df_scraped[['url','hero_fullpath']].head(2)"
   ]
  },
  {
   "cell_type": "markdown",
   "metadata": {},
   "source": [
    "I need to put the scraped databases from SNS (sneakersnstuff.com) and GOAT (goat.com) into a dataframe with columns suitable merge with the UTZappos database I originally started with.   \n",
    "I'll spend some time infering the `Category`, `Brand`, `Gender` (and `model`?) so I can pay attention to class balance .  From the transfer learning work, the `Slippers` category is pretty poor, but I should be able to use that net to label the scraped data... and validate based on the `attributes` and `see_also` fields.\n",
    "\n",
    "First things first:  fix the \"hero_fullpath\" so its agnostic of OS (Mac or Linux).\n"
   ]
  },
  {
   "cell_type": "markdown",
   "metadata": {},
   "source": [
    "## Create a unfied database of \"sneakers\"\n",
    "\n",
    "- images (need to access) path to fit beta-VAE \n",
    "- descriptions for fitting text autoencoder\n",
    "- skip \"meta\" data (will come back to this later for further analysis."
   ]
  },
  {
   "cell_type": "markdown",
   "metadata": {},
   "source": [
    "Now we just need to wrap the above proceedure into a little function for exporting..."
   ]
  },
  {
   "cell_type": "code",
   "execution_count": null,
   "metadata": {},
   "outputs": [],
   "source": [
    "df = get_scraped_db()"
   ]
  },
  {
   "cell_type": "code",
   "execution_count": null,
   "metadata": {},
   "outputs": [],
   "source": [
    "# stratify across db_name\n",
    "# skl_tt_split defined in data.zappos\n",
    "df_scraped = skl_tt_split(df,df.db_name)"
   ]
  },
  {
   "cell_type": "code",
   "execution_count": null,
   "metadata": {},
   "outputs": [
    {
     "data": {
      "text/plain": [
       "(9434, 17)"
      ]
     },
     "execution_count": null,
     "metadata": {},
     "output_type": "execute_result"
    }
   ],
   "source": [
    "df_zap = extract_zap_sneakers(df_zappos)\n",
    "df_zap.shape"
   ]
  },
  {
   "cell_type": "code",
   "execution_count": null,
   "metadata": {},
   "outputs": [
    {
     "data": {
      "text/plain": [
       "((2337, 17), (27614, 17), (11771, 29))"
      ]
     },
     "execution_count": null,
     "metadata": {},
     "output_type": "execute_result"
    }
   ],
   "source": [
    "df_test = merge_dbs(df_zap,df_scraped)\n",
    "\n",
    "df_scraped.columns,df_zappos.columns,df_test.columns\n",
    "\n",
    "df_scraped.shape,df_zappos.shape,df_test.shape\n",
    "\n",
    "# TODO:  check for duplicate paths before saving..."
   ]
  },
  {
   "cell_type": "code",
   "execution_count": null,
   "metadata": {},
   "outputs": [],
   "source": [
    "\n",
    "# save the combined db for easy access later.\n",
    "df_test.to_pickle(os.path.join(\"data\", f\"{COMBINED_SNEAKERS_DF}.pkl\"))\n",
    "\n",
    "\n",
    "df_test2 = merge_dbs(df_zappos,df_scraped)\n",
    "df_test2.to_pickle(os.path.join(\"data\", f\"{COMBINED_DF}.pkl\"))\n"
   ]
  },
  {
   "cell_type": "markdown",
   "metadata": {},
   "source": [
    "------------"
   ]
  }
 ],
 "metadata": {
  "kernelspec": {
   "display_name": "Python 3",
   "language": "python",
   "name": "python3"
  }
 },
 "nbformat": 4,
 "nbformat_minor": 4
}
