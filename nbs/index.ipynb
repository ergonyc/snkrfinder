{
 "cells": [
  {
   "cell_type": "code",
   "execution_count": null,
   "metadata": {},
   "outputs": [],
   "source": [
    "#hide\n",
    "from snkrfinder.core import *\n",
    "from snkrfinder.data.core import *\n",
    "# from snkrfinder.model.core import *\n",
    "# from snkrfinder.model.transfer import *\n",
    "# from snkrfinder.model.cvae import *\n",
    "# from snkrfinder.widgets.core import *"
   ]
  },
  {
   "cell_type": "code",
   "execution_count": null,
   "metadata": {},
   "outputs": [],
   "source": [
    "#hide\n",
    "from nbdev.showdoc import *"
   ]
  },
  {
   "cell_type": "markdown",
   "metadata": {},
   "source": [
    "# Welcome to `snkrfinder`\n",
    "\n",
    "> this repository / module are used to develop the fastai API version of Sneaker Finder:  a tool to help find sneakers similar to what you like!\n"
   ]
  },
  {
   "cell_type": "markdown",
   "metadata": {},
   "source": [
    "This file will become your README and also the index of your documentation.\n",
    "\n",
    "\n",
    "### version 0.2.4 Feb 2021 (0.1 Insight tf/keras)\n",
    "\n",
    "## OVERVIEW - WIP\n",
    "\n",
    "This is a full refactor of the Sneaker Finder tool I developed as an initial Insight Data Science sprint project.  The original project used TensorFlow, Keras, and Flask.  This project has been completely rewritten with the fastai API and pytorch.  The primary goal was to provide a task to learn pytorch and the fastai api, but I also aim to compose several blogs.\n",
    "\n",
    "This is a project initiated while an Insight Data Science fellow.  It grew out of my interest in making data driven tools in the fashion/retail space I had most recently been working.   The original over-scoped idea was to make a shoe desighn tool which could quickly develop some initial sneakers based on choosing some examples, and some text descriptors.  Designs are constrained by the \"latent space\" defined (discovered?) by a database of shoe images.  However, given the 3 week sprint allowed for development, I pared the tool down to a simple \"aesthetic\" recommender for sneakers, using the same idea of utilizing an embedding space defined by the database fo shoe images.\n"
   ]
  },
  {
   "cell_type": "markdown",
   "metadata": {},
   "source": [
    "## Install"
   ]
  },
  {
   "cell_type": "markdown",
   "metadata": {},
   "source": [
    "`pip install snkrfinder`\n",
    "\n",
    "installs the snkrfinder module...\n",
    "- snkrfinder.core -> snkrfinder (utils)\n",
    "\n",
    "- snkrfinder.data -> snkrfinder.data\n",
    "\n",
    "- snkrfinder.model -> snkrfinder.model (.core .cvae .transfer)\n",
    "\n",
    "- snkrfinder.widget -> snkrfinder.widget\n",
    "\n",
    "\n",
    "\n",
    "NOTE:  symbolic link in the nbs directory to enable the module loads in these notebooks.  i.e. `ln -s ../snkrfinder/ snkrfinder`\n"
   ]
  },
  {
   "cell_type": "markdown",
   "metadata": {},
   "source": [
    "## How to use"
   ]
  },
  {
   "cell_type": "markdown",
   "metadata": {},
   "source": [
    "Fill me in please! Don't forget code examples:"
   ]
  },
  {
   "cell_type": "code",
   "execution_count": null,
   "metadata": {},
   "outputs": [],
   "source": [
    "1+1"
   ]
  },
  {
   "cell_type": "markdown",
   "metadata": {},
   "source": [
    "dump_pickle[source]\n",
    "dump_pickle(filepath, item_to_save)\n",
    "\n",
    "simple wrapper to load a pickelfile"
   ]
  },
  {
   "cell_type": "code",
   "execution_count": null,
   "metadata": {},
   "outputs": [
    {
     "data": {
      "text/plain": [
       "Path('/home/ergonyc')"
      ]
     },
     "execution_count": null,
     "metadata": {},
     "output_type": "execute_result"
    }
   ],
   "source": [
    "HOME"
   ]
  },
  {
   "cell_type": "code",
   "execution_count": null,
   "metadata": {},
   "outputs": [],
   "source": []
  },
  {
   "cell_type": "code",
   "execution_count": null,
   "metadata": {},
   "outputs": [],
   "source": []
  }
 ],
 "metadata": {
  "kernelspec": {
   "display_name": "Python 3",
   "language": "python",
   "name": "python3"
  }
 },
 "nbformat": 4,
 "nbformat_minor": 2
}
